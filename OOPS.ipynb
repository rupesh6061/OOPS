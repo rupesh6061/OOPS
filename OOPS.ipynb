{
 "cells": [
  {
   "cell_type": "markdown",
   "id": "7992f39d-f79b-4003-9d43-d4a70c0bebec",
   "metadata": {},
   "source": [
    "OOPS Assignment \n",
    "---"
   ]
  },
  {
   "cell_type": "markdown",
   "id": "98564047-8405-4e4c-b377-578c3fc57f8a",
   "metadata": {},
   "source": [
    "**1. What is Object-Oriented Programming (OOP)**\n",
    "- OOP is a programming paradigm that uses object and classes to structure code.It focuses on key concepts like encapsulation,inheritance,polymorphism and abstraction to make code structured, reusable and maintainable.\n"
   ]
  },
  {
   "cell_type": "markdown",
   "id": "204cd08a-9bf3-49fd-9559-b5466882a254",
   "metadata": {},
   "source": [
    "**2. What is a class in OOP?**\n",
    "- A class is a blueprint for creating objects.It provides attributes and methods that the objects will have."
   ]
  },
  {
   "cell_type": "markdown",
   "id": "6a04ed00-662c-4dfe-a66b-ef0125e7455e",
   "metadata": {},
   "source": [
    "**3. What is an object in OOP?**\n",
    "- An object is an instance of class. It holds attributes and methods to operate on that data."
   ]
  },
  {
   "cell_type": "markdown",
   "id": "2166d83e-30a7-4705-9fe1-9e1450108eb6",
   "metadata": {},
   "source": [
    "**4. What is the difference between abstraction and encapsulation?**\n",
    "- **Abstraction** hides the implementation details and show only necessary information to the users.\n",
    "- **Encapsulation** restricts direct access to the data and allows controlled access through methods.e.g. private and protected variable in class."
   ]
  },
  {
   "cell_type": "markdown",
   "id": "3da386ae-02b5-45fe-8d12-c3395cd19fab",
   "metadata": {},
   "source": [
    "**5. What are dunder methods in Python?**\n",
    "- Dunder methods are the special methods that start and end with double underscore(__).They enables operator overloading and defines object behaviour."
   ]
  },
  {
   "cell_type": "markdown",
   "id": "7a428bff-011c-4085-bced-2eb8d49d43d7",
   "metadata": {},
   "source": [
    "**6. Explain the concept of inheritance in OOP?**\n",
    "- **Inheritance** allows a class to acquire attributes and methods of another class. It promotes code reuse and establish a hierarchical relations between classes(parent and child)."
   ]
  },
  {
   "cell_type": "markdown",
   "id": "01192697-3577-44ab-b353-251a6e398785",
   "metadata": {},
   "source": [
    "**7. What is polymorphism in OOP?**\n",
    "- **Polymorphism** means many forms.It allows same method to have different implementation in different classes.Polymorphism is achieved through\n",
    "- **Method Overriding** It enables subclass to have specific implementation of the method already defined in its superclass.\n",
    "- **Method Overloading** defines method with same name have different parameters."
   ]
  },
  {
   "cell_type": "markdown",
   "id": "94665d2d-afed-4a4f-8714-d577cbd4a25d",
   "metadata": {},
   "source": [
    "**8. How is encapsulation achieved in Python?**\n",
    "- Encapsulation is achieved  by using private(__) and protected(_) attributes,restricting direct modification outside the class.To access or modify these attributes we use public methods."
   ]
  },
  {
   "cell_type": "markdown",
   "id": "e9860127-99b2-4869-96bb-ec3818128d49",
   "metadata": {},
   "source": [
    "**9. What is a constructor in Python?**\n",
    "- Constructor is a special method(__init__) in a class that is automatically called when object is created.It is used to initialize object's attributes."
   ]
  },
  {
   "cell_type": "markdown",
   "id": "d65c6dd7-aee6-4b39-8cc6-aec91e037f93",
   "metadata": {},
   "source": [
    "**10. What are class and static methods in Python?**\n",
    "- **Class** methods are bound to class rather than objects and  it take cls as first parameter. It's defined using @classmethod decorator.\n",
    "- **Static** methods does not depend on class or instance and defined using @stastaticmethod decorator."
   ]
  },
  {
   "cell_type": "markdown",
   "id": "09418d8c-ea22-4f20-b674-ec34a2147b5c",
   "metadata": {},
   "source": [
    "**11. What is method overloading in Python?** \n",
    "- Method overloading allows multiple methods with same name having different parameter.Generally python does not support method overloading but it can be achieved by using defaulty arguments or variable length arguments."
   ]
  },
  {
   "cell_type": "markdown",
   "id": "9516fe43-4114-40d1-adcf-63ee0b565fb8",
   "metadata": {},
   "source": [
    "**12. What is method overriding in OOP?**\n",
    "- Method overriding allows subclass to provide a specific implementation of a method already defined in parent class."
   ]
  },
  {
   "cell_type": "markdown",
   "id": "2f86b927-6cc8-4629-9759-b2c7c6aa51ba",
   "metadata": {},
   "source": [
    "**13. What is a property decorator in Python?**\n",
    "- Property decorator allows its method to act as an attribute. It is often used to implement getters,setters and deleters in private attributes."
   ]
  },
  {
   "cell_type": "markdown",
   "id": "9fd029b1-1b45-414a-854c-05e54d0c9aa0",
   "metadata": {},
   "source": [
    "**14. Why is polymorphism important in OOP?**\n",
    "- It makes code flexible and easier  to maintain as it reduces duplication.\n",
    "- It enables single interface to works with different data types."
   ]
  },
  {
   "cell_type": "markdown",
   "id": "c0763bba-6377-453a-b3ea-a2f66b0150db",
   "metadata": {},
   "source": [
    "**15. What is an abstract class in Python?** \n",
    "- Abstract class is a class that can't be instantiated and must be subclassed.It often contains one or more abstract method that must be implemented by its subclass.Abstract classes are defined using abc module e.g from abc import @abstractmethod."
   ]
  },
  {
   "cell_type": "markdown",
   "id": "9048f0ad-7877-4d34-a4e2-8da4964470e6",
   "metadata": {},
   "source": [
    "**16. What are the advantages of OOP?**\n",
    "- **Modularity**  Code is organised into reusable classes and objects, making it easier to maintain code.\n",
    "- **Reusable** Inheritance allows the code reuse, therefore reducing redundancy.\n",
    "- **Abstraction** Hides implementation details and show only useful information to the user.\n",
    "- **Encapsulation** Protects data with restricting access.\n",
    "- **Polymorphism** enables single interface to interact with multiple data types. "
   ]
  },
  {
   "cell_type": "markdown",
   "id": "131f3496-0637-41be-8ecb-0706856c7c78",
   "metadata": {},
   "source": [
    "**17.  What is the difference between a class variable and an instance variable?** \n",
    "- **Class variable** is variable decalred outside method and can be accessed direclty by class or by all the objects.If we modify using class name it's value is changed for all the instances.\n",
    "- **Instance Variable** is defined inside __init__ method and accessed using self and these variable are unique for each instance of the class.if modified, it affects only that instance, therefore it can store different value for different objects.  "
   ]
  },
  {
   "cell_type": "markdown",
   "id": "46ef6db8-4d3d-4b5c-91b8-59ed686e4542",
   "metadata": {},
   "source": [
    "**18. What is multiple inheritance in Python?** \n",
    "- **Multiple Inheritance** is a feature in python where one child class can inherit method and attributes from multiple parent classes.This allows child class to use functionality from multiple resources. If two parent classes have method with same name then this is resolved using METHOD RESOLUTION  ORDER(MRO)."
   ]
  },
  {
   "cell_type": "markdown",
   "id": "7b8cb056-8510-4cf2-94c8-411a902efdaf",
   "metadata": {},
   "source": [
    "**19.  Explain the purpose of ‘’__str__’ and ‘__repr__’ ‘ methods in Python?**\n",
    "- **__str__** method is used for user friendly string representation of an objects.It is used with functions like print(),str().\n",
    "- **__repr__** method return unambiguous representation of the object mainly for debugging and logging purposes."
   ]
  },
  {
   "cell_type": "markdown",
   "id": "1e73050a-a83f-4391-baa4-be8c52f5dec1",
   "metadata": {},
   "source": [
    "**20. What is the significance of the ‘super()’ function in Python?** \n",
    "- Super function in python is used for calling method of parent class in child class.It is specially used in inheritance to extend or override functionality of parent class."
   ]
  },
  {
   "cell_type": "markdown",
   "id": "4df56611-61d5-4e38-9fcb-a9da7bec8dba",
   "metadata": {},
   "source": [
    "**21. What is the significance of the __del__ method in Python?** \n",
    "- The __del__ method in python is called destructor method.It is called automatically when an object is about to be garbage collected."
   ]
  },
  {
   "cell_type": "markdown",
   "id": "ba61cd0b-9402-4f13-9eb8-d2df6ae3cdf2",
   "metadata": {},
   "source": [
    "**22. What is the difference between @staticmethod and @classmethod in Python?** \n",
    "- **@staticmethod** is just like a function but it is defined inside a class for organizational purposes.It doesn't require access to the class or instance.\n",
    "- **@classmethod** takes cls as first parameter.It can modify class attributes and can create instance of class.  "
   ]
  },
  {
   "cell_type": "markdown",
   "id": "e3368d9e-af85-49dd-9c00-1de263c07dee",
   "metadata": {},
   "source": [
    "**23. How does polymorphism work in Python with inheritance?** \n",
    "- Polymorphism in python with inheritance works with method overriding where method defined inside a parent class can be modified in its subclass.This enables to write flexible and reusable code that can operate on objects of different classes through common interface."
   ]
  },
  {
   "cell_type": "markdown",
   "id": "4d5fb888-b42c-4623-95a7-d6c1a9f5c03a",
   "metadata": {},
   "source": [
    "**24. What is method chaining in Python OOP?** \n",
    "- Method chaining is the way of calling multiple methods on same object.This is achieved by returning self from every method allowing other method to be called by same object. "
   ]
  },
  {
   "cell_type": "code",
   "execution_count": 15,
   "id": "1f75592b-98b3-4dc4-a6dd-dc479c718893",
   "metadata": {},
   "outputs": [
    {
     "name": "stdout",
     "output_type": "stream",
     "text": [
      "Name - Rupesh, Age - 29, Village - Galma\n"
     ]
    }
   ],
   "source": [
    "# example of method chaining \n",
    "class Details:\n",
    "    def __init__(self,name):\n",
    "        self.name = name\n",
    "    def set_age(self,age): \n",
    "        self.age = age\n",
    "        return self\n",
    "    def set_village(self,vill): \n",
    "        self.vill = vill\n",
    "        return self\n",
    "    def display(self):\n",
    "        print(f\"Name - {self.name}, Age - {self.age}, Village - {self.vill}\")\n",
    "d = Details(\"Rupesh\").set_age(29).set_village(\"Galma\").display()"
   ]
  },
  {
   "cell_type": "markdown",
   "id": "8d5ebc96-6645-4127-a066-a2f58f1e0c19",
   "metadata": {},
   "source": [
    "**25. What is the purpose of the __call__ method in Python?**\n",
    "- __call__ method is a special method that makes instance of class callable like function."
   ]
  },
  {
   "cell_type": "code",
   "execution_count": 22,
   "id": "be3a6ecd-0b44-4c76-a34d-8b18c0909b86",
   "metadata": {},
   "outputs": [
    {
     "name": "stdout",
     "output_type": "stream",
     "text": [
      "JAI BHADRAKALI\n"
     ]
    }
   ],
   "source": [
    "#example of __call__ \n",
    "class Greet: \n",
    "    def __call__(self,deity): \n",
    "        return f\"JAI {deity}\"\n",
    "d = Greet()\n",
    "print(d(\"BHADRAKALI\"))"
   ]
  },
  {
   "cell_type": "markdown",
   "id": "2a46f2e1-7f10-40a1-a254-815619bb1774",
   "metadata": {},
   "source": [
    "#Practical Questions \n",
    "--"
   ]
  },
  {
   "cell_type": "code",
   "execution_count": 45,
   "id": "1a4920f7-ed83-4661-9232-2fe0856a712c",
   "metadata": {},
   "outputs": [
    {
     "name": "stdout",
     "output_type": "stream",
     "text": [
      "Some sound\n",
      "Bark!\n"
     ]
    }
   ],
   "source": [
    "#1. Create a parent class Animal with a method speak() that prints a generic message. \n",
    "#Create a child class Dog that overrides the speak() method to print \"Bark!\"\n",
    "class Animal: \n",
    "    def speak(self):\n",
    "        print(\"Some sound\")\n",
    "class Dog(Animal): \n",
    "    def speak(self): \n",
    "        print(\"Bark!\")\n",
    "a = Animal()\n",
    "d = Dog()\n",
    "a.speak()\n",
    "d.speak()"
   ]
  },
  {
   "cell_type": "code",
   "execution_count": 65,
   "id": "08d45d74-bfef-4073-b5d3-870e69565601",
   "metadata": {},
   "outputs": [
    {
     "name": "stdout",
     "output_type": "stream",
     "text": [
      "Area of Circle : 78.5   \n",
      "Area of rectangle : 100\n"
     ]
    }
   ],
   "source": [
    "#2. Write a program to create an abstract class Shape with a method area().\n",
    "# Derive classes Circle and Rectangle from it and implement the area() method in both.\n",
    "from abc import ABC,abstractmethod\n",
    "class Shape(ABC):\n",
    "    @abstractmethod\n",
    "    def area(self): \n",
    "        pass\n",
    "\n",
    "class Circle(Shape): \n",
    "    def __init__(self,radius):\n",
    "        if radius < 0:\n",
    "            raise ValueError(\"Radius can't be in negative\")\n",
    "        self.radius = radius \n",
    "    def area(self): \n",
    "        return 3.14 * self.radius**2\n",
    "\n",
    "class Rectangle(Shape): \n",
    "    def __init__(self,length,breadth):\n",
    "        if length < 0 or breadth < 0: \n",
    "            raise ValueError(\"Length and Breadth can't be in negative\")\n",
    "        self.length = length\n",
    "        self.breadth = breadth\n",
    "    def area(self): \n",
    "        return  self.length * self.breadth\n",
    "try:\n",
    "    c = Circle(5)\n",
    "    r = Rectangle(10,10)\n",
    "    print(f\"Area of Circle : {c.area()}  \\nArea of rectangle : {r.area()}\")\n",
    "except ValueError as v:\n",
    "    print(v)"
   ]
  },
  {
   "cell_type": "code",
   "execution_count": 77,
   "id": "8534b527-5da8-4411-b731-09741584cd26",
   "metadata": {},
   "outputs": [
    {
     "name": "stdout",
     "output_type": "stream",
     "text": [
      "Powertrain type: Combustion engine \n",
      "Powertrain type: Electric Motor, Battery type: Lithium-ion\n"
     ]
    }
   ],
   "source": [
    "#3.  Implement a multi-level inheritance scenario where a class Vehicle has an attribute type. \n",
    "# Derive a class Car and further derive a class ElectricCar that adds a battery attribute.\n",
    "class Vehicle: \n",
    "    def __init__(self,type): \n",
    "        self.type = type \n",
    "class Car(Vehicle): \n",
    "    def __init__(self,type):\n",
    "        super().__init__(type)\n",
    "\n",
    "class Electriccar(Vehicle): \n",
    "    def __init__(self,type,battery): \n",
    "        super().__init__(type) \n",
    "        self.battery = battery\n",
    "c = Car(\"Combustion engine\")\n",
    "e = Electriccar(\"Electric Motor\", \"Lithium-ion\")\n",
    "print(f\"Powertrain type: {c.type} \\nPowertrain type: {e.type}, Battery type: {e.battery}\")\n"
   ]
  },
  {
   "cell_type": "code",
   "execution_count": 85,
   "id": "fcfeb01e-664c-4234-9180-4c5f32242b1b",
   "metadata": {},
   "outputs": [
    {
     "name": "stdout",
     "output_type": "stream",
     "text": [
      "UDJA BHAI\n",
      "Udja kaale kaawa🦅 tere muuh bich khand paawa\n",
      "I don't fly, I swim.🐧\n"
     ]
    }
   ],
   "source": [
    "#4.  Demonstrate polymorphism by creating a Instrument class Bird with a method fly(). \n",
    "#Create two derived classes Sparrow and Penguin that override the fly() method\n",
    "class Bird: \n",
    "    def fly(self): \n",
    "        print(\"UDJA BHAI\")\n",
    "\n",
    "class Sparrow(Bird): \n",
    "    def fly (self): \n",
    "        print(\"Udja kaale kaawa🦅 tere muuh bich khand paawa\")\n",
    "\n",
    "class Penguin(Bird): \n",
    "    def fly(self): \n",
    "        print(\"I don't fly, I swim.🐧\")\n",
    "\n",
    "b = Bird()\n",
    "s = Sparrow()\n",
    "p = Penguin()\n",
    "b.fly()\n",
    "s.fly()\n",
    "p.fly()"
   ]
  },
  {
   "cell_type": "code",
   "execution_count": 107,
   "id": "81a815e3-b97c-4104-ab82-2c138e71bf0d",
   "metadata": {},
   "outputs": [
    {
     "name": "stdout",
     "output_type": "stream",
     "text": [
      "Amount deposited: ₹1000\n",
      "Amount debited: ₹3000\n",
      "Insufficient Balance\n",
      "Your Name: Rupesh \n",
      "Balance:  Your balance: ₹3000\n"
     ]
    }
   ],
   "source": [
    "#5.Write a program to demonstrate encapsulation by creating a class BankAccount with\n",
    "# private attributes balance and methods to deposit, withdraw, and check balance\n",
    "class BankAccount: \n",
    "    def __init__(self,holdername,balance): \n",
    "        self.holdername = holdername\n",
    "        self.__balance = balance\n",
    "    def deposit(self,amount):\n",
    "        if amount > 0:\n",
    "            self.__balance += amount\n",
    "            print(f\"Amount deposited: ₹{amount}\")\n",
    "        else:\n",
    "            print(\"Amount must be positive\")\n",
    "    def withdraw(self,amount):\n",
    "        if amount > self.__balance: \n",
    "            print(\"Insufficient Balance\")\n",
    "        elif amount > 0:\n",
    "            self.__balance -= amount\n",
    "            print(f\"Amount debited: ₹{amount}\")\n",
    "        else:\n",
    "            print(\"Amount must be positive\")\n",
    "    def show(self): \n",
    "        return f\" Your balance: ₹{self.__balance}\" \n",
    "\n",
    "acc = BankAccount(\"Rupesh\",5000)\n",
    "acc.deposit(1000)\n",
    "acc.withdraw(3000)\n",
    "acc.withdraw(5000)\n",
    "print(f\"Your Name: {acc.holdername} \\nBalance: {acc.show()}\")\n",
    "        "
   ]
  },
  {
   "cell_type": "code",
   "execution_count": 5,
   "id": "4ade34cf-01f8-4582-a97a-983bb77894c6",
   "metadata": {},
   "outputs": [
    {
     "name": "stdout",
     "output_type": "stream",
     "text": [
      "Playing mute\n",
      "Playing Guitar🎸\n",
      "Playing Piano🎹\n"
     ]
    }
   ],
   "source": [
    "#6. Demonstrate runtime polymorphism using a method play() in a Instrument class Instrument.\n",
    "# Derive classes Guitar and Piano that implement their own version of play()\n",
    "class Instrument: \n",
    "    def play(self): \n",
    "        print(\"Playing mute\")\n",
    "class Guitar(Instrument): \n",
    "    def play(self):\n",
    "        print(\"Playing Guitar🎸\")\n",
    "class Piano(Instrument):\n",
    "    def play(self):\n",
    "        print(\"Playing Piano🎹\")\n",
    "b = Instrument() \n",
    "g = Guitar()\n",
    "p = Piano()\n",
    "b.play()\n",
    "g.play()\n",
    "p.play()"
   ]
  },
  {
   "cell_type": "code",
   "execution_count": 5,
   "id": "cffe1fa9-7ece-4b1c-8594-6567cbd3986e",
   "metadata": {},
   "outputs": [
    {
     "name": "stdout",
     "output_type": "stream",
     "text": [
      "11\n",
      "4\n"
     ]
    }
   ],
   "source": [
    "#7. Create a class MathOperations with a class method add_numbers() to add two numbers and a static method subtract_numbers() to subtract two numbers.\n",
    "class MathOperations:\n",
    "    @classmethod\n",
    "    def add(cls,a,b): \n",
    "        return a+b\n",
    "    @staticmethod\n",
    "    def subtract(a,b):\n",
    "        return a-b\n",
    "print(MathOperations.add(5,6))\n",
    "print(MathOperations.subtract(8,4))\n"
   ]
  },
  {
   "cell_type": "code",
   "execution_count": 9,
   "id": "8123700c-fb2a-49c5-9407-48ab58aede35",
   "metadata": {},
   "outputs": [
    {
     "name": "stdout",
     "output_type": "stream",
     "text": [
      "3\n"
     ]
    }
   ],
   "source": [
    "#8.  Implement a class Person with a class method to count the total number of persons created.\n",
    "class Person: \n",
    "    count = 0\n",
    "    def __init__(self,name):\n",
    "        self.name = name\n",
    "        Person.count += 1\n",
    "    @classmethod\n",
    "    def total(cls): \n",
    "        return cls.count\n",
    "\n",
    "a = Person(\"Laila\")\n",
    "b = Person(\"Majnu\")\n",
    "c = Person(\"yeh ley\")\n",
    "print(Person.count)"
   ]
  },
  {
   "cell_type": "code",
   "execution_count": 15,
   "id": "fd73c9b2-85d2-44b9-bd56-f02032d56ed8",
   "metadata": {},
   "outputs": [
    {
     "name": "stdout",
     "output_type": "stream",
     "text": [
      "5/4\n"
     ]
    }
   ],
   "source": [
    "#9.  Write a class Fraction with attributes numerator and denominator. Override the str method to display the fraction as \"numerator/denominator\".\n",
    "class Fraction:\n",
    "    def __init__(self,numerator,denominator): \n",
    "        if denominator == 0:\n",
    "            raise ValueError(\"Denominator can't be zero\")\n",
    "        self.numerator = numerator\n",
    "        self.denominator = denominator\n",
    "    def __str__(self): \n",
    "        return f\"{self.numerator}/{self.denominator}\"\n",
    "f = Fraction(5,4)\n",
    "print(f)"
   ]
  },
  {
   "cell_type": "code",
   "execution_count": 19,
   "id": "3d8ac215-dad8-4c64-9b14-617802ccaa0c",
   "metadata": {},
   "outputs": [
    {
     "name": "stdout",
     "output_type": "stream",
     "text": [
      "Vector 10, 10\n"
     ]
    }
   ],
   "source": [
    "#10.  Demonstrate operator overloading by creating a class Vector and overriding the add method to add two vectors.\n",
    "class Vector: \n",
    "    def __init__(self,x,y): \n",
    "        self.x = x\n",
    "        self.y = y \n",
    "    def __add__(self,other): \n",
    "        if isinstance(other, Vector): \n",
    "            return Vector(self.x + other.x , self.y + other.y)\n",
    "        raise TypeError(\"Unsupported operand type: must be a Vector\")\n",
    "    def __str__(self): \n",
    "        return f\"Vector {self.x}, {self.y}\"\n",
    "\n",
    "v1 = Vector(5,3)\n",
    "v2 = Vector(5,7)\n",
    "v3 = v1 + v2\n",
    "print(v3)"
   ]
  },
  {
   "cell_type": "code",
   "execution_count": 37,
   "id": "fe8695f9-b4c8-441f-9c7b-808f5f3524f1",
   "metadata": {},
   "outputs": [
    {
     "name": "stdout",
     "output_type": "stream",
     "text": [
      "Hello, my name is Rupesh and I am 29 years old\n"
     ]
    }
   ],
   "source": [
    "#11. Create a class Person with attributes name and age. Add a method greet() that prints \"Hello, my name is {name} and I am {age} years old\n",
    "class Person: \n",
    "    def __init__(self,name,age): \n",
    "        self.name = name\n",
    "        self.age = age\n",
    "    def greet(self): \n",
    "        print(f\"Hello, my name is {self.name} and I am {self.age} years old\")\n",
    "p = Person('Rupesh',29)\n",
    "p.greet()"
   ]
  },
  {
   "cell_type": "code",
   "execution_count": 47,
   "id": "d58f3dba-e832-47d6-8525-2a1261df485d",
   "metadata": {},
   "outputs": [
    {
     "name": "stdout",
     "output_type": "stream",
     "text": [
      "Average Grade : 68.0\n"
     ]
    }
   ],
   "source": [
    "#12. Implement a class Student with attributes name and grades. Create a method average_grade() to compute the average of the grades. \n",
    "class Student: \n",
    "    def __init__(self,name,grades): \n",
    "        self.name = name\n",
    "        self.grades = grades\n",
    "    def avg_grade(self): \n",
    "        average = sum(self.grades) / len(self.grades)\n",
    "        print(f\"Average Grade : {average}\")\n",
    "s1 = Student(\"Rupesh\",[60,62,70,69,79])\n",
    "s1.avg_grade()"
   ]
  },
  {
   "cell_type": "code",
   "execution_count": 51,
   "id": "fa5581a9-af9c-41c7-9eea-b8d6f117c84e",
   "metadata": {},
   "outputs": [
    {
     "name": "stdout",
     "output_type": "stream",
     "text": [
      "Area: 4000\n"
     ]
    }
   ],
   "source": [
    "#13. Create a class Rectangle with methods set_dimensions() to set the dimensions and area() to calculate the area.\n",
    "class Rectangle: \n",
    "    def set_dimensions(self,length,width): \n",
    "        self.length = length\n",
    "        self.width = width\n",
    "    def area(self): \n",
    "        return self.length * self.width\n",
    "r = Rectangle()\n",
    "r.set_dimensions(100,40)\n",
    "print(f\"Area: {r.area()}\")\n",
    "        "
   ]
  },
  {
   "cell_type": "code",
   "execution_count": 12,
   "id": "e1c09396-3f1f-402b-b4d9-ad98a88571a7",
   "metadata": {},
   "outputs": [
    {
     "name": "stdout",
     "output_type": "stream",
     "text": [
      "500\n",
      "6000\n"
     ]
    }
   ],
   "source": [
    "#14.  Create a class Employee with a method calculate_salary() that computes the salary based on hours worked\n",
    "# and hourly rate. Create a derived class Manager that adds a bonus to the salary.\n",
    "class Employee: \n",
    "    def __init__(self,emp_name,worktime,salary_per_hour): \n",
    "        self.emp_name = emp_name\n",
    "        self.worktime = worktime\n",
    "        self.salary_per_hour = salary_per_hour\n",
    "    def calculate_salary(self): \n",
    "        return self.worktime * self.salary_per_hour\n",
    "\n",
    "class Manager(Employee): \n",
    "    def __init__(self,emp_name,worktime,salary_per_hour, bonus): \n",
    "        super().__init__(emp_name,worktime,salary_per_hour)\n",
    "        self.bonus = bonus\n",
    "    def calculate_salary(self): \n",
    "        return super().calculate_salary() + self.bonus\n",
    "\n",
    "e1 = Employee(\"Rupesh\",10,50)\n",
    "m1 = Manager(\"Shiva\",10,500,1000)\n",
    "print(e1.calculate_salary())\n",
    "print(m1.calculate_salary())\n",
    "        "
   ]
  },
  {
   "cell_type": "code",
   "execution_count": 28,
   "id": "9f3f1633-4dba-4ce5-8dfb-88aff4e8d41e",
   "metadata": {},
   "outputs": [
    {
     "name": "stdout",
     "output_type": "stream",
     "text": [
      "Name: Manga, Price: 800, Quantity: 4 \n",
      "3200\n"
     ]
    }
   ],
   "source": [
    "#15. Create a class Product with attributes name, price, and quantity. Implement a method total_price() that calculates the total price of the product.\n",
    "class Product: \n",
    "    def __init__(self,name,price,quantity): \n",
    "        self.name = name\n",
    "        self.price = price\n",
    "        self.quantity = quantity\n",
    "    def total_price(self): \n",
    "        return self.price * self.quantity\n",
    "    def __str__(self):\n",
    "        return f\"Name: {self.name}, Price: {self.price}, Quantity: {self.quantity} \"\n",
    "\n",
    "p = Product(\"Manga\",800,4)\n",
    "print(p)\n",
    "print(p.total_price())"
   ]
  },
  {
   "cell_type": "code",
   "execution_count": 54,
   "id": "2c295403-2a98-4912-88d7-77c26bff1ffd",
   "metadata": {},
   "outputs": [
    {
     "name": "stdout",
     "output_type": "stream",
     "text": [
      "Making some sound\n",
      "Almooh🐄\n",
      "Beehhhh!!!🐏\n"
     ]
    }
   ],
   "source": [
    "#16. Create a class Animal with an abstract method sound(). Create two derived classes Cow and Sheep that implement the sound() method.\n",
    "from abc import ABC,abstractmethod\n",
    "class Animal: \n",
    "    @abstractmethod \n",
    "    def sound(self): \n",
    "        pass\n",
    "\n",
    "class Cow(Animal): \n",
    "    def sound(self): \n",
    "        print(\"Almooh🐄\") \n",
    "\n",
    "class Sheep(Animal): \n",
    "    def sound(self): \n",
    "        print(\"Beehhhh!!!🐏\") \n",
    "    \n",
    "a = Animal()\n",
    "c = Cow() \n",
    "s = Sheep()\n",
    "a.sound()\n",
    "c.sound()\n",
    "s.sound()"
   ]
  },
  {
   "cell_type": "code",
   "execution_count": 60,
   "id": "ba069ed9-356e-44bb-a53c-291c0aaf0ee5",
   "metadata": {},
   "outputs": [
    {
     "name": "stdout",
     "output_type": "stream",
     "text": [
      "BOOK DETAILS  \n",
      "Title: The Autobiography of a Yogi \n",
      "Author: Paramahansa Yogananda \n",
      "Year: 1946\n"
     ]
    }
   ],
   "source": [
    "#17. Create a class Book with attributes title, author, and year_published.\n",
    "# Add a method get_book_info() that returns a formatted string with the book's details.\n",
    "class Book: \n",
    "    def __init__(self, title, author, year): \n",
    "        self.title = title\n",
    "        self.author = author\n",
    "        self.year = year \n",
    "    def get_book_info(self): \n",
    "        return f\"BOOK DETAILS  \\nTitle: {self.title} \\nAuthor: {self.author} \\nYear: {self.year}\" \n",
    "b = Book(\"The Autobiography of a Yogi\", \"Paramahansa Yogananda\", 1946) \n",
    "print(b.get_book_info())"
   ]
  },
  {
   "cell_type": "code",
   "execution_count": 11,
   "id": "82e14992-39b9-40d7-9bd9-30c454670217",
   "metadata": {},
   "outputs": [
    {
     "name": "stdout",
     "output_type": "stream",
     "text": [
      "Address: Bharmour \n",
      "Price: 500000 \n",
      "Number of rooms: 6\n"
     ]
    }
   ],
   "source": [
    "#18. Create a class House with attributes address and price. Create a derived class Mansion that adds an attribute number_of_rooms.\n",
    "class House: \n",
    "    def __init__(self, address, price): \n",
    "        self.address = address\n",
    "        self.price = price\n",
    "class Mansion(House): \n",
    "    def __init__(self,address,price,number_of_rooms): \n",
    "        super().__init__(address,price)\n",
    "        self.number_of_rooms = number_of_rooms\n",
    "m = Mansion(\"Bharmour\",500000, 6)\n",
    "print(f\"Address: {m.address} \\nPrice: {m.price} \\nNumber of rooms: {m.number_of_rooms}\")"
   ]
  },
  {
   "cell_type": "code",
   "execution_count": null,
   "id": "9dce2268-81f3-4b02-8d36-6ff3a9e17c07",
   "metadata": {},
   "outputs": [],
   "source": []
  }
 ],
 "metadata": {
  "kernelspec": {
   "display_name": "Python 3 (ipykernel)",
   "language": "python",
   "name": "python3"
  },
  "language_info": {
   "codemirror_mode": {
    "name": "ipython",
    "version": 3
   },
   "file_extension": ".py",
   "mimetype": "text/x-python",
   "name": "python",
   "nbconvert_exporter": "python",
   "pygments_lexer": "ipython3",
   "version": "3.12.7"
  }
 },
 "nbformat": 4,
 "nbformat_minor": 5
}
